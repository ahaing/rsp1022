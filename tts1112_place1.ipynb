{
 "cells": [
  {
   "cell_type": "code",
   "execution_count": null,
   "metadata": {},
   "outputs": [
    {
     "ename": "",
     "evalue": "",
     "output_type": "error",
     "traceback": [
      "\u001b[1;31m執行具有 '/bin/python' 的儲存格需要 ipykernel 套件。\n",
      "\u001b[1;31mRun the following command to install 'ipykernel' into the Python environment. \n",
      "\u001b[1;31mCommand: '/bin/python -m pip install ipykernel -U --user --force-reinstall'"
     ]
    }
   ],
   "source": [
    "# 會使用 os 模組透過 system 函數來執行系統指令\n",
    "import os\n",
    "# 使用 google cloud 的 texttospeech 進行轉換\n",
    "from google.cloud import texttospeech\n",
    "\n",
    "# 初始化 Google Text-to-Speech client\n",
    "tts_client = texttospeech.TextToSpeechClient()\n",
    "\n",
    "# 自訂一個轉換函數\n",
    "def text_to_speech(text):\n",
    "    # \n",
    "    synthesis_input = texttospeech.SynthesisInput(text=text)\n",
    "\n",
    "    # 設置語音參數\n",
    "    voice_params = texttospeech.VoiceSelectionParams(\n",
    "        language_code='cmn-Hant-TW', # 設定語言\n",
    "        name='cmn-TW-Wavenet-C',    # 男生\n",
    "        ssml_gender=texttospeech.SsmlVoiceGender.NEUTRAL)\n",
    "\n",
    "    # 設置音頻輸出格式\n",
    "    audio_config = texttospeech.AudioConfig(\n",
    "        # LINEAR16 是 PCM 格式，適用於樹莓派\n",
    "        audio_encoding=texttospeech.AudioEncoding.LINEAR16)  \n",
    "\n",
    "    # 生成語音\n",
    "    response = tts_client.synthesize_speech(\n",
    "        input=synthesis_input, \n",
    "        voice=voice_params, \n",
    "        audio_config=audio_config)\n",
    "\n",
    "    # 將回復的音頻內容寫入文件\n",
    "    with open('output.wav', 'wb') as audio_file:\n",
    "        audio_file.write(response.audio_content)\n",
    "        print('音頻內容已寫入檔案 \"output.wav\"')\n",
    "    # 這個函數會傳出一個檔案\n",
    "    return 'output.wav'\n",
    "\n",
    "def play_audio(file_name):\n",
    "    # 播放音頻文件\n",
    "    os.system(f\"aplay {file_name}\")\n",
    "\n",
    "def main():\n",
    "    # 捕捉過程中可能拋出的錯誤，讓程序可以更優雅\n",
    "    try:\n",
    "        # 無窮迴圈\n",
    "        while True:\n",
    "            # 使用者輸入\n",
    "            text = input(\"請輸入要轉換為語音的文字內容，然後按下Enter：\")\n",
    "            # 去除頭尾空白\n",
    "            if text.strip() == \"\":\n",
    "                print(\"請注意，您沒有輸入任何文字。\")\n",
    "                # 使用 continue 進入下一輪迴圈\n",
    "                continue\n",
    "            \n",
    "            # 假如有內容就會執行到這裡進行文字轉語音\n",
    "            print(\"正在轉換文本到語音...\")\n",
    "            audio_file = text_to_speech(text)\n",
    "            # 轉換完成進行播放\n",
    "            print(\"正在播放語音...\")\n",
    "            play_audio(audio_file)\n",
    "            # 播放後，使用者可以決定要繼續還是退出\n",
    "            user_input = input(\"輸入 'exit' 退出，或按 Enter 繼續：\").lower()\n",
    "            if user_input == 'exit':\n",
    "                print(\"退出程序\")\n",
    "                break\n",
    "    except KeyboardInterrupt:\n",
    "        print(\"用戶已經中斷程序\")\n",
    "    except Exception as e:\n",
    "        print(f\"程序發生錯誤：{e}\")\n",
    "\n",
    "if __name__ == \"__main__\":\n",
    "    main()"
   ]
  }
 ],
 "metadata": {
  "kernelspec": {
   "display_name": "Python 3",
   "language": "python",
   "name": "python3"
  },
  "language_info": {
   "name": "python",
   "version": "3.9.2"
  }
 },
 "nbformat": 4,
 "nbformat_minor": 2
}
